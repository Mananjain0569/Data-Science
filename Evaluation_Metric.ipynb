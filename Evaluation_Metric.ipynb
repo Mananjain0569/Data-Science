{
  "nbformat": 4,
  "nbformat_minor": 0,
  "metadata": {
    "colab": {
      "provenance": []
    },
    "kernelspec": {
      "name": "python3",
      "display_name": "Python 3"
    },
    "language_info": {
      "name": "python"
    }
  },
  "cells": [
    {
      "cell_type": "markdown",
      "source": [
        "# **Using train_test_split and random state=42**"
      ],
      "metadata": {
        "id": "odgVYvzAB9th"
      }
    },
    {
      "cell_type": "code",
      "execution_count": null,
      "metadata": {
        "colab": {
          "base_uri": "https://localhost:8080/"
        },
        "id": "tjeARdTziQEZ",
        "outputId": "65ca2b1d-96f6-4609-8a5b-53f92256ab25"
      },
      "outputs": [
        {
          "output_type": "stream",
          "name": "stdout",
          "text": [
            "Average MSE: 4586505886.68125\n"
          ]
        }
      ],
      "source": [
        "import numpy as np\n",
        "import pandas as pd\n",
        "from sklearn.linear_model import LinearRegression\n",
        "from sklearn.model_selection import train_test_split\n",
        "from sklearn.metrics import mean_squared_error\n",
        "# Load the Boston Housing dataset\n",
        "df = pd.read_csv('/content/sample_data/california_housing_test.csv')\n",
        "X = df.iloc[:,0:-1]\n",
        "y = df.iloc[:,-1]\n",
        "# Create a linear regression model\n",
        "model = LinearRegression()\n",
        "x_train,x_test,y_train,y_test=train_test_split(X,y,test_size=0.2,random_state=42)\n",
        "model.fit(x_train,y_train)\n",
        "y_preds=model.predict(x_test)\n",
        "print(\"Average MSE:\", mean_squared_error(y_test,y_preds))"
      ]
    },
    {
      "cell_type": "markdown",
      "source": [
        "# **Using train_test_split and random state=2**"
      ],
      "metadata": {
        "id": "QtRNQQJLCK7y"
      }
    },
    {
      "cell_type": "code",
      "source": [
        "import numpy as np\n",
        "import pandas as pd\n",
        "from sklearn.linear_model import LinearRegression\n",
        "from sklearn.model_selection import train_test_split\n",
        "from sklearn.metrics import mean_squared_error\n",
        "# Load the Boston Housing dataset\n",
        "df = pd.read_csv('/content/sample_data/california_housing_test.csv')\n",
        "X = df.iloc[:,0:-1]\n",
        "y = df.iloc[:,-1]\n",
        "# Create a linear regression model\n",
        "model = LinearRegression()\n",
        "x_train,x_test,y_train,y_test=train_test_split(X,y,test_size=0.2,random_state=2)\n",
        "model.fit(x_train,y_train)\n",
        "y_preds=model.predict(x_test)\n",
        "print(\"Average MSE:\", mean_squared_error(y_test,y_preds))"
      ],
      "metadata": {
        "colab": {
          "base_uri": "https://localhost:8080/"
        },
        "id": "-AE9AycTCKWD",
        "outputId": "cdd1f7ad-f044-4d87-a994-f8d1c6888eb5"
      },
      "execution_count": null,
      "outputs": [
        {
          "output_type": "stream",
          "name": "stdout",
          "text": [
            "Average MSE: 4475988413.719402\n"
          ]
        }
      ]
    },
    {
      "cell_type": "markdown",
      "source": [
        "# **Leave one-out cross validation**"
      ],
      "metadata": {
        "id": "DQghobXhFLqL"
      }
    },
    {
      "cell_type": "code",
      "source": [
        "import pandas as pd\n",
        "import numpy as np\n",
        "from sklearn.linear_model import LinearRegression\n",
        "from sklearn.model_selection import LeaveOneOut, cross_val_score\n",
        "# Load the Boston Housing dataset\n",
        "df = pd.read_csv('/content/sample_data/california_housing_test.csv')\n",
        "X = df.iloc[:,0:-1]\n",
        "y = df.iloc[:,-1]\n",
        "# Create a linear regression model\n",
        "model = LinearRegression()\n",
        "# Create a LeaveOneOut cross-validator\n",
        "loo = LeaveOneOut()\n",
        "# Use cross_val_score for the dataset with the model and LOOCV\n",
        "# This will return the scores for each iteration of LOOCV\n",
        "scores = cross_val_score(model, X, y, cv=loo, scoring='neg_mean_squared_error')\n",
        "mse_scores = -scores # Invert the sign of the scores\n",
        "# Print the mean MSE over all LOOCV iterations\n",
        "print(\"Mean MSE:\", mse_scores.mean())"
      ],
      "metadata": {
        "colab": {
          "base_uri": "https://localhost:8080/"
        },
        "id": "JdkZcBulFOSz",
        "outputId": "1fd11227-5fa2-4e8c-e47b-23fc098ce5eb"
      },
      "execution_count": null,
      "outputs": [
        {
          "output_type": "stream",
          "name": "stdout",
          "text": [
            "Mean MSE: 4907922539.419126\n"
          ]
        }
      ]
    },
    {
      "cell_type": "markdown",
      "source": [
        "# **Implementing K-fold cross validation**"
      ],
      "metadata": {
        "id": "kcf6RShbIxwz"
      }
    },
    {
      "cell_type": "code",
      "source": [
        "from sklearn.model_selection import cross_val_score\n",
        "from sklearn.linear_model import LinearRegression\n",
        "from sklearn.model_selection import KFold\n",
        "import pandas as pd\n",
        "# Load the Boston Housing dataset\n",
        "df = pd.read_csv('/content/sample_data/california_housing_test.csv')\n",
        "X = df.iloc[:,0:-1]\n",
        "y = df.iloc[:,-1]\n",
        "# Initialize a Linear Regression model\n",
        "model = LinearRegression()\n",
        "# Initialize the KFold parameters\n",
        "kfold = KFold(n_splits=10, shuffle=True, random_state=2)\n",
        "# Use cross_val_score on the model and dataset\n",
        "scores = cross_val_score(model, X, y, cv=kfold, scoring='r2')\n",
        "print(\"R2 scores for each fold:\", scores)\n",
        "print(\"Mean R2 score across all folds:\", scores.mean())"
      ],
      "metadata": {
        "colab": {
          "base_uri": "https://localhost:8080/"
        },
        "id": "hkd4sUjtI2fD",
        "outputId": "a65ecd96-bae9-417e-c2df-23b9bb3f9687"
      },
      "execution_count": null,
      "outputs": [
        {
          "output_type": "stream",
          "name": "stdout",
          "text": [
            "R2 scores for each fold: [0.5968843  0.64296386 0.57079441 0.6904268  0.61833204 0.62072828\n",
            " 0.57289547 0.64346109 0.6502989  0.55126461]\n",
            "Mean R2 score across all folds: 0.6158049765047621\n"
          ]
        }
      ]
    },
    {
      "cell_type": "markdown",
      "source": [
        "# **Implementing Stratified K-fold cross validation**"
      ],
      "metadata": {
        "id": "m8oq23S8I9mS"
      }
    },
    {
      "cell_type": "code",
      "source": [
        "from sklearn.datasets import load_iris\n",
        "from sklearn.model_selection import StratifiedKFold, cross_val_score\n",
        "from sklearn.linear_model import LogisticRegression\n",
        "# Load iris dataset\n",
        "data = load_iris()\n",
        "X, y = data.data, data.target\n",
        "# Create a Logistic Regression model\n",
        "model = LogisticRegression(max_iter=10000, random_state=42)\n",
        "# Create StratifiedKFold object\n",
        "skf = StratifiedKFold(n_splits=5, random_state=42, shuffle=True)\n",
        "# Perform stratified cross validation\n",
        "scores = cross_val_score(model, X, y, cv=skf, scoring='accuracy')\n",
        "# Print the accuracy for each fold\n",
        "\n",
        "print(\"Accuracies for each fold: \", scores)\n",
        "print(\"Mean accuracy across all folds: \", scores.mean())"
      ],
      "metadata": {
        "colab": {
          "base_uri": "https://localhost:8080/"
        },
        "id": "YzdstOm8JAxi",
        "outputId": "903fe97c-1899-43c1-e6dd-63328ee4f001"
      },
      "execution_count": null,
      "outputs": [
        {
          "output_type": "stream",
          "name": "stdout",
          "text": [
            "Accuracies for each fold:  [1.         0.96666667 0.93333333 1.         0.93333333]\n",
            "Mean accuracy across all folds:  0.9666666666666668\n"
          ]
        }
      ]
    }
  ]
}