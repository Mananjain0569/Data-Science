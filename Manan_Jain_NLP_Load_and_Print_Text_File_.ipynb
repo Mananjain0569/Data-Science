{
  "nbformat": 4,
  "nbformat_minor": 0,
  "metadata": {
    "colab": {
      "provenance": []
    },
    "kernelspec": {
      "name": "python3",
      "display_name": "Python 3"
    },
    "language_info": {
      "name": "python"
    }
  },
  "cells": [
    {
      "cell_type": "code",
      "execution_count": null,
      "metadata": {
        "id": "5_tnKf5bBGsj"
      },
      "outputs": [],
      "source": [
        "#Open the text file :\n",
        "text_file = open(\"/content/Do Not Go Gentle Into That Good Night.txt\")"
      ]
    },
    {
      "cell_type": "code",
      "source": [
        "#Read the data :\n",
        "text = text_file.read()"
      ],
      "metadata": {
        "id": "ujIqR6gFCT8X"
      },
      "execution_count": null,
      "outputs": []
    },
    {
      "cell_type": "code",
      "source": [
        "#Datatype of the data read :\n",
        "print (type(text))\n",
        "print(\"\\n\")"
      ],
      "metadata": {
        "colab": {
          "base_uri": "https://localhost:8080/"
        },
        "id": "R6KE6o5TCWIf",
        "outputId": "07952810-b110-4d0a-f355-1b33b283d1a1"
      },
      "execution_count": null,
      "outputs": [
        {
          "output_type": "stream",
          "name": "stdout",
          "text": [
            "<class 'str'>\n",
            "\n",
            "\n"
          ]
        }
      ]
    },
    {
      "cell_type": "code",
      "source": [
        "#Print the text :\n",
        "print(text)\n",
        "print(\"\\n\")\n",
        "#Length of the text :\n",
        "print (len(text))"
      ],
      "metadata": {
        "colab": {
          "base_uri": "https://localhost:8080/"
        },
        "id": "MXYmt1n1CZew",
        "outputId": "74ecc150-d1da-49c9-ff73-1bcae7412585"
      },
      "execution_count": null,
      "outputs": [
        {
          "output_type": "stream",
          "name": "stdout",
          "text": [
            "Do not go gentle into that good night,\n",
            "Old age should burn and rage at close of day;\n",
            "Rage, rage against the dying of the light.\n",
            "\n",
            "Though wise men at their end know dark is right,\n",
            "Because their words had forked no lightning they\n",
            "Do not go gentle into that good night.\n",
            "\n",
            "Good men, the last wave by, crying how bright\n",
            "Their frail deeds might have danced in a green bay,\n",
            "Rage, rage against the dying of the light.\n",
            "\n",
            "Wild men who caught and sang the sun in flight,\n",
            "And learn, too late, they grieved it on its way,\n",
            "Do not go gentle into that good night.\n",
            "\n",
            "Grave men, near death, who see with blinding sight\n",
            "Blind eyes could blaze like meteors and be gay,\n",
            "Rage, rage against the dying of the light.\n",
            "\n",
            "And you, my father, there on the sad height,\n",
            "Curse, bless me now with your fierce tears, I pray.\n",
            "Do not go gentle into that good night.\n",
            "Rage, rage against the dying of the light.\n",
            "\n",
            "\n",
            "867\n"
          ]
        }
      ]
    },
    {
      "cell_type": "code",
      "source": [
        "#Import required libraries :\n",
        "import nltk\n",
        "from nltk import sent_tokenize\n",
        "from nltk import word_tokenize\n",
        "\n",
        "import nltk\n",
        "nltk.download(\"popular\")"
      ],
      "metadata": {
        "colab": {
          "base_uri": "https://localhost:8080/"
        },
        "id": "ZuHvi1hbCc1_",
        "outputId": "dedb6155-3886-4433-b454-fad975bb0e0f"
      },
      "execution_count": null,
      "outputs": [
        {
          "output_type": "stream",
          "name": "stderr",
          "text": [
            "[nltk_data] Downloading collection 'popular'\n",
            "[nltk_data]    | \n",
            "[nltk_data]    | Downloading package cmudict to /root/nltk_data...\n",
            "[nltk_data]    |   Unzipping corpora/cmudict.zip.\n",
            "[nltk_data]    | Downloading package gazetteers to /root/nltk_data...\n",
            "[nltk_data]    |   Unzipping corpora/gazetteers.zip.\n",
            "[nltk_data]    | Downloading package genesis to /root/nltk_data...\n",
            "[nltk_data]    |   Unzipping corpora/genesis.zip.\n",
            "[nltk_data]    | Downloading package gutenberg to /root/nltk_data...\n",
            "[nltk_data]    |   Unzipping corpora/gutenberg.zip.\n",
            "[nltk_data]    | Downloading package inaugural to /root/nltk_data...\n",
            "[nltk_data]    |   Unzipping corpora/inaugural.zip.\n",
            "[nltk_data]    | Downloading package movie_reviews to\n",
            "[nltk_data]    |     /root/nltk_data...\n",
            "[nltk_data]    |   Unzipping corpora/movie_reviews.zip.\n",
            "[nltk_data]    | Downloading package names to /root/nltk_data...\n",
            "[nltk_data]    |   Unzipping corpora/names.zip.\n",
            "[nltk_data]    | Downloading package shakespeare to /root/nltk_data...\n",
            "[nltk_data]    |   Unzipping corpora/shakespeare.zip.\n",
            "[nltk_data]    | Downloading package stopwords to /root/nltk_data...\n",
            "[nltk_data]    |   Unzipping corpora/stopwords.zip.\n",
            "[nltk_data]    | Downloading package treebank to /root/nltk_data...\n",
            "[nltk_data]    |   Unzipping corpora/treebank.zip.\n",
            "[nltk_data]    | Downloading package twitter_samples to\n",
            "[nltk_data]    |     /root/nltk_data...\n",
            "[nltk_data]    |   Unzipping corpora/twitter_samples.zip.\n",
            "[nltk_data]    | Downloading package omw to /root/nltk_data...\n",
            "[nltk_data]    | Downloading package omw-1.4 to /root/nltk_data...\n",
            "[nltk_data]    | Downloading package wordnet to /root/nltk_data...\n",
            "[nltk_data]    | Downloading package wordnet2021 to /root/nltk_data...\n",
            "[nltk_data]    | Downloading package wordnet31 to /root/nltk_data...\n",
            "[nltk_data]    | Downloading package wordnet_ic to /root/nltk_data...\n",
            "[nltk_data]    |   Unzipping corpora/wordnet_ic.zip.\n",
            "[nltk_data]    | Downloading package words to /root/nltk_data...\n",
            "[nltk_data]    |   Unzipping corpora/words.zip.\n",
            "[nltk_data]    | Downloading package maxent_ne_chunker to\n",
            "[nltk_data]    |     /root/nltk_data...\n",
            "[nltk_data]    |   Unzipping chunkers/maxent_ne_chunker.zip.\n",
            "[nltk_data]    | Downloading package punkt to /root/nltk_data...\n",
            "[nltk_data]    |   Unzipping tokenizers/punkt.zip.\n",
            "[nltk_data]    | Downloading package snowball_data to\n",
            "[nltk_data]    |     /root/nltk_data...\n",
            "[nltk_data]    | Downloading package averaged_perceptron_tagger to\n",
            "[nltk_data]    |     /root/nltk_data...\n",
            "[nltk_data]    |   Unzipping taggers/averaged_perceptron_tagger.zip.\n",
            "[nltk_data]    | \n",
            "[nltk_data]  Done downloading collection popular\n"
          ]
        },
        {
          "output_type": "execute_result",
          "data": {
            "text/plain": [
              "True"
            ]
          },
          "metadata": {},
          "execution_count": 5
        }
      ]
    },
    {
      "cell_type": "code",
      "source": [
        "#Tokenize the text by sentences :\n",
        "sentences = sent_tokenize(text)\n",
        "#How many sentences are there? :\n",
        "print (len(sentences))\n",
        "#Print the sentences :\n",
        "#print(sentences)\n",
        "sentences"
      ],
      "metadata": {
        "colab": {
          "base_uri": "https://localhost:8080/"
        },
        "id": "gkCj0J5xCfm3",
        "outputId": "1002c460-d1ee-4e4d-c42c-7bd11f7eba66"
      },
      "execution_count": null,
      "outputs": [
        {
          "output_type": "stream",
          "name": "stdout",
          "text": [
            "8\n"
          ]
        },
        {
          "output_type": "execute_result",
          "data": {
            "text/plain": [
              "['Do not go gentle into that good night,\\nOld age should burn and rage at close of day;\\nRage, rage against the dying of the light.',\n",
              " 'Though wise men at their end know dark is right,\\nBecause their words had forked no lightning they\\nDo not go gentle into that good night.',\n",
              " 'Good men, the last wave by, crying how bright\\nTheir frail deeds might have danced in a green bay,\\nRage, rage against the dying of the light.',\n",
              " 'Wild men who caught and sang the sun in flight,\\nAnd learn, too late, they grieved it on its way,\\nDo not go gentle into that good night.',\n",
              " 'Grave men, near death, who see with blinding sight\\nBlind eyes could blaze like meteors and be gay,\\nRage, rage against the dying of the light.',\n",
              " 'And you, my father, there on the sad height,\\nCurse, bless me now with your fierce tears, I pray.',\n",
              " 'Do not go gentle into that good night.',\n",
              " 'Rage, rage against the dying of the light.']"
            ]
          },
          "metadata": {},
          "execution_count": 6
        }
      ]
    },
    {
      "cell_type": "code",
      "source": [
        "#Tokenize the text with words :\n",
        "words = word_tokenize(text)\n",
        "#How many words are there? :\n",
        "print (len(words))\n",
        "print(\"\\n\")\n",
        "#Print words :\n",
        "print (words)"
      ],
      "metadata": {
        "colab": {
          "base_uri": "https://localhost:8080/"
        },
        "id": "wPZl0AGqCkZ-",
        "outputId": "f18ec5ec-61c6-4efb-8df2-52dcf2f59339"
      },
      "execution_count": null,
      "outputs": [
        {
          "output_type": "stream",
          "name": "stdout",
          "text": [
            "198\n",
            "\n",
            "\n",
            "['Do', 'not', 'go', 'gentle', 'into', 'that', 'good', 'night', ',', 'Old', 'age', 'should', 'burn', 'and', 'rage', 'at', 'close', 'of', 'day', ';', 'Rage', ',', 'rage', 'against', 'the', 'dying', 'of', 'the', 'light', '.', 'Though', 'wise', 'men', 'at', 'their', 'end', 'know', 'dark', 'is', 'right', ',', 'Because', 'their', 'words', 'had', 'forked', 'no', 'lightning', 'they', 'Do', 'not', 'go', 'gentle', 'into', 'that', 'good', 'night', '.', 'Good', 'men', ',', 'the', 'last', 'wave', 'by', ',', 'crying', 'how', 'bright', 'Their', 'frail', 'deeds', 'might', 'have', 'danced', 'in', 'a', 'green', 'bay', ',', 'Rage', ',', 'rage', 'against', 'the', 'dying', 'of', 'the', 'light', '.', 'Wild', 'men', 'who', 'caught', 'and', 'sang', 'the', 'sun', 'in', 'flight', ',', 'And', 'learn', ',', 'too', 'late', ',', 'they', 'grieved', 'it', 'on', 'its', 'way', ',', 'Do', 'not', 'go', 'gentle', 'into', 'that', 'good', 'night', '.', 'Grave', 'men', ',', 'near', 'death', ',', 'who', 'see', 'with', 'blinding', 'sight', 'Blind', 'eyes', 'could', 'blaze', 'like', 'meteors', 'and', 'be', 'gay', ',', 'Rage', ',', 'rage', 'against', 'the', 'dying', 'of', 'the', 'light', '.', 'And', 'you', ',', 'my', 'father', ',', 'there', 'on', 'the', 'sad', 'height', ',', 'Curse', ',', 'bless', 'me', 'now', 'with', 'your', 'fierce', 'tears', ',', 'I', 'pray', '.', 'Do', 'not', 'go', 'gentle', 'into', 'that', 'good', 'night', '.', 'Rage', ',', 'rage', 'against', 'the', 'dying', 'of', 'the', 'light', '.']\n"
          ]
        }
      ]
    }
  ]
}